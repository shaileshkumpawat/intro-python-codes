{
 "cells": [
  {
   "cell_type": "code",
   "execution_count": 3,
   "metadata": {},
   "outputs": [],
   "source": [
    "#create a new type to represent a number as a fraction\n",
    "\n",
    "class fraction(object):\n",
    "    def __init__(self, n, d):     #n means numerator, d means denominator\n",
    "        self.n = n\n",
    "        self.d = d\n",
    "        \n",
    "    def __str__(self):\n",
    "        return str(self.n) + '/' + str(self.d)\n",
    "    \n",
    "    def getnumerator(self):\n",
    "        return self.n\n",
    "    def getdenominator(self):\n",
    "        return self.d"
   ]
  },
  {
   "cell_type": "code",
   "execution_count": 10,
   "metadata": {},
   "outputs": [
    {
     "name": "stdout",
     "output_type": "stream",
     "text": [
      "1/2\n",
      "2/3\n",
      "<bound method fraction.getnumerator of <__main__.fraction object at 0x000001380CD23888>>\n",
      "1\n"
     ]
    },
    {
     "data": {
      "text/plain": [
       "3"
      ]
     },
     "execution_count": 10,
     "metadata": {},
     "output_type": "execute_result"
    }
   ],
   "source": [
    "a = fraction(1,2)\n",
    "b = fraction(2,3)\n",
    "\n",
    "print(a)\n",
    "print(b)\n",
    "print(a.getnumerator)\n",
    "print(a.getnumerator())\n",
    "fraction.getdenominator(b)"
   ]
  },
  {
   "cell_type": "raw",
   "metadata": {},
   "source": []
  }
 ],
 "metadata": {
  "kernelspec": {
   "display_name": "Python 3",
   "language": "python",
   "name": "python3"
  },
  "language_info": {
   "codemirror_mode": {
    "name": "ipython",
    "version": 3
   },
   "file_extension": ".py",
   "mimetype": "text/x-python",
   "name": "python",
   "nbconvert_exporter": "python",
   "pygments_lexer": "ipython3",
   "version": "3.7.4"
  }
 },
 "nbformat": 4,
 "nbformat_minor": 2
}
