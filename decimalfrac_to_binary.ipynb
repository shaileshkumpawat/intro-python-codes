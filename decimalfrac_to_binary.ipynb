{
 "cells": [
  {
   "cell_type": "code",
   "execution_count": 4,
   "metadata": {},
   "outputs": [
    {
     "name": "stdout",
     "output_type": "stream",
     "text": [
      "Enter a decimal number between 0 and 1\n",
      "0.365\n",
      "Remainder = 0.365\n",
      "Remainder = 0.73\n",
      "Remainder = 0.45999999999999996\n",
      "Remainder = 0.9199999999999999\n",
      "Remainder = 0.8399999999999999\n",
      "Remainder = 0.6799999999999997\n",
      "Remainder = 0.35999999999999943\n",
      "Remainder = 0.7199999999999989\n",
      "Remainder = 0.4399999999999977\n",
      "Remainder = 0.8799999999999955\n",
      "Remainder = 0.7599999999999909\n",
      "Remainder = 0.5199999999999818\n",
      "Remainder = 0.03999999999996362\n",
      "Remainder = 0.07999999999992724\n",
      "Remainder = 0.15999999999985448\n",
      "Remainder = 0.31999999999970896\n",
      "Remainder = 0.6399999999994179\n",
      "Remainder = 0.27999999999883585\n",
      "Remainder = 0.5599999999976717\n",
      "Remainder = 0.11999999999534339\n",
      "Remainder = 0.23999999999068677\n",
      "Remainder = 0.47999999998137355\n",
      "Remainder = 0.9599999999627471\n",
      "Remainder = 0.9199999999254942\n",
      "Remainder = 0.8399999998509884\n",
      "Remainder = 0.6799999997019768\n",
      "Remainder = 0.35999999940395355\n",
      "Remainder = 0.7199999988079071\n",
      "Remainder = 0.4399999976158142\n",
      "Remainder = 0.8799999952316284\n",
      "Remainder = 0.7599999904632568\n",
      "Remainder = 0.5199999809265137\n",
      "Remainder = 0.039999961853027344\n",
      "Remainder = 0.07999992370605469\n",
      "Remainder = 0.15999984741210938\n",
      "Remainder = 0.31999969482421875\n",
      "Remainder = 0.6399993896484375\n",
      "Remainder = 0.279998779296875\n",
      "Remainder = 0.55999755859375\n",
      "Remainder = 0.1199951171875\n",
      "Remainder = 0.239990234375\n",
      "Remainder = 0.47998046875\n",
      "Remainder = 0.9599609375\n",
      "Remainder = 0.919921875\n",
      "Remainder = 0.83984375\n",
      "Remainder = 0.6796875\n",
      "Remainder = 0.359375\n",
      "Remainder = 0.71875\n",
      "Remainder = 0.4375\n",
      "Remainder = 0.875\n",
      "Remainder = 0.75\n",
      "Remainder = 0.5\n",
      "The binary representation of the decimal 0.365 is .0101110101110000101000111101011100001010001111010111\n"
     ]
    }
   ],
   "source": [
    "x = float(input(\"Enter a decimal number between 0 and 1\\n\"))\n",
    "p = 0\n",
    "while ((2**p)*x)%1 != 0:\n",
    "    print('Remainder = ' + str((2**p)*x - int((2**p)*x)))\n",
    "    p += 1\n",
    "num = int((2**p)*x)\n",
    "\n",
    "result = ''\n",
    "if num == 0:\n",
    "    result = '0'\n",
    "while num > 0:\n",
    "    result = str(num%2) + result\n",
    "    num = num//2\n",
    "\n",
    "for i in range(p - len(result)):\n",
    "    result = '0' + result\n",
    "\n",
    "result = result[0:-p] + '.' + result[-p:]\n",
    "print('The binary representation of the decimal ' + str(x) + ' is ' + result)\n"
   ]
  },
  {
   "cell_type": "code",
   "execution_count": null,
   "metadata": {},
   "outputs": [],
   "source": []
  }
 ],
 "metadata": {
  "kernelspec": {
   "display_name": "Python 3",
   "language": "python",
   "name": "python3"
  },
  "language_info": {
   "codemirror_mode": {
    "name": "ipython",
    "version": 3
   },
   "file_extension": ".py",
   "mimetype": "text/x-python",
   "name": "python",
   "nbconvert_exporter": "python",
   "pygments_lexer": "ipython3",
   "version": "3.7.4"
  }
 },
 "nbformat": 4,
 "nbformat_minor": 4
}
