{
 "cells": [
  {
   "cell_type": "code",
   "execution_count": 3,
   "metadata": {},
   "outputs": [],
   "source": [
    "# analyze the frequency of words in any string\n",
    "\n",
    "def words_to_freq(st):\n",
    "    mydict = {}\n",
    "    for word in st:\n",
    "        if word in mydict:\n",
    "            mydict[word] += 1\n",
    "        else:\n",
    "            mydict[word] = 1\n",
    "    return mydict\n",
    "\n",
    "# getting the most common words\n",
    "\n",
    "#freq = words_to_freq(st)\n",
    "\n",
    "def most_common(freq):\n",
    "    values = freq.values()\n",
    "    best = max(values)\n",
    "    words = []\n",
    "    for k in freq:\n",
    "        if freq[k] == best:\n",
    "            words.append(k)\n",
    "    return(words, best)\n",
    "\n",
    "# finding words that occur often enough\n",
    "\n",
    "def words_often(freq, minTimes):\n",
    "    result = []\n",
    "    done = False\n",
    "    while not done:\n",
    "        temp = most_common(freq)\n",
    "        if temp[1] >= minTimes:\n",
    "            result.append(temp)\n",
    "            for w in temp(0):\n",
    "                del(freq[w])\n",
    "        else:\n",
    "            done = True\n",
    "    return result\n"
   ]
  },
  {
   "cell_type": "code",
   "execution_count": 13,
   "metadata": {},
   "outputs": [
    {
     "name": "stdout",
     "output_type": "stream",
     "text": [
      "Enter a positive integer34\n",
      "9227465\n"
     ]
    }
   ],
   "source": []
  },
  {
   "cell_type": "code",
   "execution_count": null,
   "metadata": {},
   "outputs": [],
   "source": []
  },
  {
   "cell_type": "code",
   "execution_count": null,
   "metadata": {},
   "outputs": [],
   "source": []
  }
 ],
 "metadata": {
  "kernelspec": {
   "display_name": "Python 3",
   "language": "python",
   "name": "python3"
  },
  "language_info": {
   "codemirror_mode": {
    "name": "ipython",
    "version": 3
   },
   "file_extension": ".py",
   "mimetype": "text/x-python",
   "name": "python",
   "nbconvert_exporter": "python",
   "pygments_lexer": "ipython3",
   "version": "3.7.4"
  }
 },
 "nbformat": 4,
 "nbformat_minor": 2
}
