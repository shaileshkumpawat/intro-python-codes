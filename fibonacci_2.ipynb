{
 "cells": [
  {
   "cell_type": "code",
   "execution_count": 2,
   "metadata": {},
   "outputs": [
    {
     "name": "stdout",
     "output_type": "stream",
     "text": [
      "Enter a positive integer12\n",
      "233\n",
      "Number of function calls  21\n"
     ]
    }
   ],
   "source": [
    "# the following process is sometimes called memoization, i.e. creating a memo. \n",
    "\n",
    "numFibCalls = 0\n",
    "\n",
    "def fib_efficient(n, d):\n",
    "    global numFibCalls\n",
    "    numFibCalls += 1          \n",
    "    #it is going to keep track of how often are we calling the funtion \n",
    "    if n in d:\n",
    "        return d[n]\n",
    "    else:\n",
    "        ans = fib_efficient(n-1, d) + fib_efficient(n-2, d)\n",
    "        d[n] = ans\n",
    "        return ans\n",
    "\n",
    "d = {1:1, 2:2}\n",
    "m = int(input('Enter a positive integer'))\n",
    "print(fib_efficient(m, d))\n",
    "print('Number of function calls ', numFibCalls)"
   ]
  },
  {
   "cell_type": "code",
   "execution_count": null,
   "metadata": {},
   "outputs": [],
   "source": []
  }
 ],
 "metadata": {
  "kernelspec": {
   "display_name": "Python 3",
   "language": "python",
   "name": "python3"
  },
  "language_info": {
   "codemirror_mode": {
    "name": "ipython",
    "version": 3
   },
   "file_extension": ".py",
   "mimetype": "text/x-python",
   "name": "python",
   "nbconvert_exporter": "python",
   "pygments_lexer": "ipython3",
   "version": "3.7.4"
  }
 },
 "nbformat": 4,
 "nbformat_minor": 2
}
