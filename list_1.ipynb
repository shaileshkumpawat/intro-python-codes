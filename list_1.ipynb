{
 "cells": [
  {
   "cell_type": "code",
   "execution_count": 5,
   "metadata": {},
   "outputs": [
    {
     "name": "stdout",
     "output_type": "stream",
     "text": [
      "[1, 2, 3, 5]\n",
      "[1, 2, 3, 5]\n"
     ]
    }
   ],
   "source": [
    "x = [1, 2, 3]\n",
    "y = x\n",
    "y.append(5)\n",
    "print(y)\n",
    "print(x)\n",
    "\n",
    "#here x & y point to the exact same list"
   ]
  },
  {
   "cell_type": "code",
   "execution_count": 6,
   "metadata": {},
   "outputs": [
    {
     "name": "stdout",
     "output_type": "stream",
     "text": [
      "[22, 34, 6, 7]\n",
      "[22, 34, 6]\n"
     ]
    }
   ],
   "source": [
    "#but suppose we have the following instance\n",
    "\n",
    "a = [22, 34, 6]\n",
    "b = [22, 34, 6]\n",
    "a.append(7)\n",
    "print(a)\n",
    "print(b)\n",
    "\n",
    "#here a & b initially point to different versions of the same list \n"
   ]
  },
  {
   "cell_type": "code",
   "execution_count": 7,
   "metadata": {},
   "outputs": [
    {
     "name": "stdout",
     "output_type": "stream",
     "text": [
      "[5, 6, 8, 0]\n",
      "[5, 6, 8]\n"
     ]
    }
   ],
   "source": [
    "#If we are to create the clone of a list, i.e. different versions but of the same list\n",
    "\n",
    "m = [5, 6, 8]\n",
    "n = m[:]\n",
    "# the colon m[:] creates a copy of the list m and assigns it to n\n",
    "n.append(0)\n",
    "print(n)\n",
    "print(m)"
   ]
  },
  {
   "cell_type": "code",
   "execution_count": 11,
   "metadata": {},
   "outputs": [
    {
     "name": "stdout",
     "output_type": "stream",
     "text": [
      "[6, 7, 22, 34]\n",
      "[6, 22, 34]\n",
      "[22, 34, 6]\n"
     ]
    }
   ],
   "source": [
    "a.sort()\n",
    "print(a)\n",
    "# sort() sorts the original list and thus mutates the elements of a\n",
    "\n",
    "sorted(b)\n",
    "print(sorted(b))\n",
    "print(b)\n",
    "\n",
    "#sorted() sorts the list but does not mutate the original list\n"
   ]
  },
  {
   "cell_type": "code",
   "execution_count": 13,
   "metadata": {},
   "outputs": [
    {
     "name": "stdout",
     "output_type": "stream",
     "text": [
      "[['orange', 'yellow']]\n",
      "[['orange', 'yellow'], ['red']]\n",
      "['red', 'pink']\n",
      "[['orange', 'yellow'], ['red', 'pink']]\n"
     ]
    }
   ],
   "source": [
    "warm = ['orange', 'yellow']\n",
    "hot = ['red']\n",
    "colors = [warm]\n",
    "print(colors)\n",
    "colors.append(hot)\n",
    "print(colors)\n",
    "hot.append('pink')\n",
    "print(hot)\n",
    "# not surprisingly it prints ['red', 'pink']\n",
    "print(colors)\n",
    "# but this last line prints [['orange', 'yellow'], ['red', 'pink']]\n",
    "# which means that the 1st indexed element in colors points to the same list as 'hot'\n"
   ]
  },
  {
   "cell_type": "code",
   "execution_count": 17,
   "metadata": {},
   "outputs": [
    {
     "name": "stdout",
     "output_type": "stream",
     "text": [
      "[2, 3, 4]\n"
     ]
    }
   ],
   "source": [
    "# we are going to take 2 cases of mutating a list\n",
    "# first\n",
    "\n",
    "def remove_duplicates(L1, L2):\n",
    "    for e in L1:\n",
    "        if e in L2:\n",
    "            return L1.remove(e)\n",
    "\n",
    "L1 = [1, 2, 3, 4]\n",
    "L2 = [1, 2, 3, 4]\n",
    "remove_duplicates(L1, L2)\n",
    "print(L1)\n",
    "# here only '1' has been removed from L1. Why?\n",
    "# python uses an internal counter to keep track of the index it is in the loop  \n",
    "# mutating changes the list length but Python doesn't update the counter\n",
    "# loop never sees the counter"
   ]
  },
  {
   "cell_type": "code",
   "execution_count": 22,
   "metadata": {},
   "outputs": [
    {
     "name": "stdout",
     "output_type": "stream",
     "text": [
      "[4, 7]\n"
     ]
    }
   ],
   "source": [
    "# we can execute the above process as follows\n",
    "\n",
    "def remove_duplicates(L1, L2):\n",
    "    L1_copy = L1[:]     #this creates a clone of L1\n",
    "    for e in L1_copy:\n",
    "        if e in L2:\n",
    "            L1.remove(e)\n",
    "l = [4, 5, 2, 7]\n",
    "m = [3, 5, 2]\n",
    "remove_duplicates(l, m)\n",
    "print(l)"
   ]
  },
  {
   "cell_type": "code",
   "execution_count": null,
   "metadata": {},
   "outputs": [],
   "source": []
  }
 ],
 "metadata": {
  "kernelspec": {
   "display_name": "Python 3",
   "language": "python",
   "name": "python3"
  },
  "language_info": {
   "codemirror_mode": {
    "name": "ipython",
    "version": 3
   },
   "file_extension": ".py",
   "mimetype": "text/x-python",
   "name": "python",
   "nbconvert_exporter": "python",
   "pygments_lexer": "ipython3",
   "version": "3.7.4"
  }
 },
 "nbformat": 4,
 "nbformat_minor": 2
}
