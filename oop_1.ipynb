{
 "cells": [
  {
   "cell_type": "code",
   "execution_count": 25,
   "metadata": {},
   "outputs": [],
   "source": [
    "class coordinate(object):          #coordinate is a subclass of object     #object is a superclass of coordinate     #object is the parent class\n",
    "    #next we define the attributes\n",
    "    #first we have to define how to create an instance of object\n",
    "    #use a special method called __init__ to initialize some data attributes\n",
    "    \n",
    "    def __init__(self, x, y):\n",
    "        self.x = x\n",
    "        self.y = y\n",
    "    \n",
    "    #we create a method; a function that works only with this class\n",
    "    def distance(self, other):\n",
    "        x_diff_sq = (self.x - other.x)**2\n",
    "        y_diff_sq = (self.y - other.y)**2\n",
    "        return (x_diff_sq + y_diff_sq)**0.5\n",
    "    \n",
    "    #we are defining a special method __str__ so that we can print out out instances as we like\n",
    "    def __str__(self):\n",
    "        return '(' + str(self.x) + ',' + str(self.y) + ')'\n",
    "    \n",
    "    def __sub__(self, other):\n",
    "        return coordinate(self.x-other.x, self.y-other.y)\n",
    "    "
   ]
  },
  {
   "cell_type": "code",
   "execution_count": 26,
   "metadata": {},
   "outputs": [
    {
     "name": "stdout",
     "output_type": "stream",
     "text": [
      "7.810249675906654\n",
      "7.810249675906654\n",
      "(5,6)\n",
      "(1,1)\n"
     ]
    }
   ],
   "source": [
    "o = coordinate(0,0)\n",
    "c = coordinate(5,6)\n",
    "#the argument for self is automatically being provided by Python\n",
    "print(c.distance(o))\n",
    "#we can also compute the distance between c&o in the following way\n",
    "print(coordinate.distance(c,o))\n",
    "print(c)\n",
    "\n",
    "d = coordinate(4,5)\n",
    "print(c-d)\n"
   ]
  },
  {
   "cell_type": "code",
   "execution_count": 24,
   "metadata": {},
   "outputs": [
    {
     "name": "stdout",
     "output_type": "stream",
     "text": [
      "<class '__main__.coordinate'>\n",
      "<class '__main__.coordinate'>\n",
      "<class 'type'>\n",
      "True\n",
      "False\n"
     ]
    }
   ],
   "source": [
    "print(type(c))\n",
    "print(coordinate)\n",
    "print(type(coordinate))\n",
    "print(isinstance(c,coordinate))     #this simply asks whether c is an instance of coordinate\n",
    "print(isinstance(2,coordinate))"
   ]
  },
  {
   "cell_type": "code",
   "execution_count": null,
   "metadata": {},
   "outputs": [],
   "source": []
  }
 ],
 "metadata": {
  "kernelspec": {
   "display_name": "Python 3",
   "language": "python",
   "name": "python3"
  },
  "language_info": {
   "codemirror_mode": {
    "name": "ipython",
    "version": 3
   },
   "file_extension": ".py",
   "mimetype": "text/x-python",
   "name": "python",
   "nbconvert_exporter": "python",
   "pygments_lexer": "ipython3",
   "version": "3.7.4"
  }
 },
 "nbformat": 4,
 "nbformat_minor": 2
}
